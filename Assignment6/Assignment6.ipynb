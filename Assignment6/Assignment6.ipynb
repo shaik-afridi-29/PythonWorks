{
 "cells": [
  {
   "cell_type": "code",
   "execution_count": 1,
   "metadata": {},
   "outputs": [
    {
     "name": "stdout",
     "output_type": "stream",
     "text": [
      "Enter the value of a:9\n",
      "Enter the value of b:24\n",
      "The GCD of 9 and 24 is: 3\n"
     ]
    }
   ],
   "source": [
    "#Greatest Common Divisor\n",
    "t=0\n",
    "gcd=0\n",
    "a=int(input(\"Enter the value of a:\"))\n",
    "b=int(input(\"Enter the value of b:\"))\n",
    "x=a\n",
    "y=b\n",
    "while b!=0:\n",
    "    t=b\n",
    "    b=a%b\n",
    "    a=t\n",
    "gcd=a\n",
    "print(\"The GCD of\",x,\"and\",y,\"is:\",gcd)"
   ]
  },
  {
   "cell_type": "code",
   "execution_count": 2,
   "metadata": {},
   "outputs": [
    {
     "name": "stdout",
     "output_type": "stream",
     "text": [
      "Enter the string:Python is a Programming Language\n",
      "The original string is: Python is a Programming Language\n",
      "The reversed string is: egaugnaL gnimmargorP a si nohtyP \n"
     ]
    }
   ],
   "source": [
    "#Reverse a string by input from user\n",
    "def reverse(s):\n",
    "    str=\" \"\n",
    "    for i in s:\n",
    "        str=i+str\n",
    "    return str\n",
    "s=str(input(\"Enter the string:\"))\n",
    "print(\"The original string is:\",s)\n",
    "print(\"The reversed string is:\",reverse(s))"
   ]
  },
  {
   "cell_type": "code",
   "execution_count": 3,
   "metadata": {},
   "outputs": [
    {
     "name": "stdout",
     "output_type": "stream",
     "text": [
      "Number of even numbers : 2\n",
      "Number of odd numbers : 7\n"
     ]
    }
   ],
   "source": [
    "#Even or Odd\n",
    "n=(101,45,24,27,97,5,3,61,46)\n",
    "codd=0\n",
    "ceven=0\n",
    "for i in n:\n",
    "        if not i%2:\n",
    "            ceven=ceven+1\n",
    "        else:\n",
    "            codd=codd+1\n",
    "print(\"Number of even numbers :\",ceven)\n",
    "print(\"Number of odd numbers :\",codd)"
   ]
  },
  {
   "cell_type": "code",
   "execution_count": 1,
   "metadata": {},
   "outputs": [
    {
     "name": "stdout",
     "output_type": "stream",
     "text": [
      "0\n",
      "1\n",
      "2\n",
      "4\n",
      "5\n"
     ]
    }
   ],
   "source": [
    "#Numbers from 0-6 except 3 and 6\n",
    "n=(0,1,2,3,4,5,6)\n",
    "print(0)\n",
    "for i in n:\n",
    "    if i%3!=0:\n",
    "        print(i)"
   ]
  }
 ],
 "metadata": {
  "kernelspec": {
   "display_name": "Python 3",
   "language": "python",
   "name": "python3"
  },
  "language_info": {
   "codemirror_mode": {
    "name": "ipython",
    "version": 3
   },
   "file_extension": ".py",
   "mimetype": "text/x-python",
   "name": "python",
   "nbconvert_exporter": "python",
   "pygments_lexer": "ipython3",
   "version": "3.8.3"
  }
 },
 "nbformat": 4,
 "nbformat_minor": 4
}
