{
 "cells": [
  {
   "cell_type": "code",
   "execution_count": 1,
   "metadata": {},
   "outputs": [
    {
     "name": "stdout",
     "output_type": "stream",
     "text": [
      "Enter the string:Programming through Python\n",
      "Length of the string is 26\n"
     ]
    }
   ],
   "source": [
    "#Length of the string\n",
    "str=input(\"Enter the string:\")\n",
    "c=len(str)\n",
    "print(\"Length of the string is\",c)"
   ]
  },
  {
   "cell_type": "code",
   "execution_count": 4,
   "metadata": {},
   "outputs": [
    {
     "name": "stdout",
     "output_type": "stream",
     "text": [
      "Enter the string:Railway Station\n",
      "Enter the character to be checked:a\n",
      "The a Letter in Railway Station has repeated for 3 times\n"
     ]
    }
   ],
   "source": [
    "#Frequency of Charcters\n",
    "str=input(\"Enter the string:\")\n",
    "ch=input(\"Enter the character to be checked:\")\n",
    "count=0\n",
    "for letter in str:\n",
    "    if letter==ch:\n",
    "        count=count+1\n",
    "print(\"The\",ch,\"Letter\",\"in\",str,\"has repeated for\",count,\"times\")"
   ]
  },
  {
   "cell_type": "code",
   "execution_count": 5,
   "metadata": {},
   "outputs": [
    {
     "name": "stdout",
     "output_type": "stream",
     "text": [
      "Enter the first string:Captain\n",
      "Enter the second string:America\n",
      "The Original String: CaptainAmerica\n",
      "The Swapped String: Amptain Caerica\n"
     ]
    }
   ],
   "source": [
    "#Swapping the characters of string\n",
    "def strs(a, b):\n",
    "    n_a=b[:2] + a[2:]\n",
    "    n_b=a[:2] + b[2:]\n",
    "    return n_a+' '+n_b\n",
    "x=input(\"Enter the first string:\")\n",
    "y=input(\"Enter the second string:\")\n",
    "print(\"The Original String:\",x+y)\n",
    "print(\"The Swapped String:\",strs(x,y))"
   ]
  },
  {
   "cell_type": "code",
   "execution_count": 6,
   "metadata": {},
   "outputs": [
    {
     "name": "stdout",
     "output_type": "stream",
     "text": [
      "Enter any string:The Tesseract of Void\n",
      "The String in Upper case is: THE TESSERACT OF VOID\n",
      "The String in Lower case is: the tesseract of void\n"
     ]
    }
   ],
   "source": [
    "#Upper and Lower cases\n",
    "str=input(\"Enter any string:\")\n",
    "print(\"The String in Upper case is:\",str.upper())\n",
    "print(\"The String in Lower case is:\",str.lower())"
   ]
  },
  {
   "cell_type": "code",
   "execution_count": 7,
   "metadata": {},
   "outputs": [
    {
     "name": "stdout",
     "output_type": "stream",
     "text": [
      "I'm Iron Man\n",
      "\n",
      "I'm Iron Man\n"
     ]
    }
   ],
   "source": [
    "#New line removal\n",
    "str=\"I'm Iron Man\\n\"\n",
    "print(str)\n",
    "print(str.rstrip())"
   ]
  },
  {
   "cell_type": "code",
   "execution_count": 8,
   "metadata": {},
   "outputs": [
    {
     "name": "stdout",
     "output_type": "stream",
     "text": [
      "Enter the string:How many times would a wood chuck chuck if a wood chuck could chuck do?\n",
      "Enter the substring presence to be checked:chuck\n",
      "4\n"
     ]
    }
   ],
   "source": [
    "#Substring occurrences in a Main String \n",
    "str=input(\"Enter the string:\")\n",
    "ch=input(\"Enter the substring presence to be checked:\")\n",
    "print(str.count(ch))"
   ]
  },
  {
   "cell_type": "code",
   "execution_count": 9,
   "metadata": {},
   "outputs": [
    {
     "name": "stdout",
     "output_type": "stream",
     "text": [
      "['Im the one, the world call me by name IRON MAN']\n"
     ]
    }
   ],
   "source": [
    "#Conversion of string into list\n",
    "import ast\n",
    "str=\"['Im the one, the world call me by name IRON MAN']\"\n",
    "print(ast.literal_eval(str))"
   ]
  },
  {
   "cell_type": "code",
   "execution_count": 1,
   "metadata": {},
   "outputs": [
    {
     "name": "stdout",
     "output_type": "stream",
     "text": [
      "Enter the string:Enhancement\n",
      "Enter the index where the character is to be deleted:4\n",
      "Enhacement\n"
     ]
    }
   ],
   "source": [
    "#Deletion of character from a string\n",
    "def char_dlt(str, n):\n",
    "    x= str[:n]\n",
    "    y=str[n+1:]\n",
    "    return x+y\n",
    "ch=input(\"Enter the string:\")\n",
    "n=int(input(\"Enter the index where the character is to be deleted:\"))\n",
    "print(char_dlt(ch,n))"
   ]
  },
  {
   "cell_type": "code",
   "execution_count": 4,
   "metadata": {},
   "outputs": [
    {
     "name": "stdout",
     "output_type": "stream",
     "text": [
      "Enter the string:GITAM University\n",
      "G\n",
      "I\n",
      "T\n",
      "A\n",
      "M\n",
      " \n",
      "U\n",
      "n\n",
      "i\n",
      "v\n",
      "e\n",
      "r\n",
      "s\n",
      "i\n",
      "t\n",
      "y\n"
     ]
    }
   ],
   "source": [
    "str=input(\"Enter the string:\")\n",
    "for index,char in enumerate(str):\n",
    "    print(char)"
   ]
  },
  {
   "cell_type": "code",
   "execution_count": 5,
   "metadata": {},
   "outputs": [
    {
     "name": "stdout",
     "output_type": "stream",
     "text": [
      "Enter the string:Refrigirator\n",
      "Length of the string is:\n",
      "12\n"
     ]
    }
   ],
   "source": [
    "#Length of string without len function\n",
    "str=input(\"Enter the string:\")\n",
    "count=0\n",
    "for i in str:\n",
    "      count=count+1\n",
    "print(\"Length of the string is:\")\n",
    "print(count)"
   ]
  }
 ],
 "metadata": {
  "kernelspec": {
   "display_name": "Python 3",
   "language": "python",
   "name": "python3"
  },
  "language_info": {
   "codemirror_mode": {
    "name": "ipython",
    "version": 3
   },
   "file_extension": ".py",
   "mimetype": "text/x-python",
   "name": "python",
   "nbconvert_exporter": "python",
   "pygments_lexer": "ipython3",
   "version": "3.8.3"
  }
 },
 "nbformat": 4,
 "nbformat_minor": 4
}
