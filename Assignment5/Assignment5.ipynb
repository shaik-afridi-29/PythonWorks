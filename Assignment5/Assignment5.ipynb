{
 "cells": [
  {
   "cell_type": "code",
   "execution_count": 1,
   "metadata": {},
   "outputs": [
    {
     "name": "stdout",
     "output_type": "stream",
     "text": [
      "Enter the Binary value:10101010\n",
      "The Decimal Value of the number is 170\n"
     ]
    }
   ],
   "source": [
    "#Convert Binary number to Decimal number\n",
    "n=list(input(\"Enter the Binary value:\"))\n",
    "value=0\n",
    "for i in range(len(n)):\n",
    "    digit=n.pop()\n",
    "    if digit=='1':\n",
    "        value=value+pow(2,i)\n",
    "print(\"The Decimal Value of the number is\",value)"
   ]
  },
  {
   "cell_type": "code",
   "execution_count": 2,
   "metadata": {},
   "outputs": [
    {
     "name": "stdout",
     "output_type": "stream",
     "text": [
      "Enter the value of n:10\n",
      "The Fibonacci Series:\n",
      "0\n",
      "1\n",
      "1\n",
      "2\n",
      "3\n",
      "5\n",
      "8\n",
      "13\n",
      "21\n"
     ]
    }
   ],
   "source": [
    "#Fibonacci Series\n",
    "n=int(input(\"Enter the value of n:\"))\n",
    "a=0\n",
    "b=1\n",
    "c=0\n",
    "print(\"The Fibonacci Series:\")\n",
    "for i in range(1,n):\n",
    "    print(a)\n",
    "    c=a+b\n",
    "    a=b\n",
    "    b=c"
   ]
  },
  {
   "cell_type": "code",
   "execution_count": 3,
   "metadata": {},
   "outputs": [
    {
     "name": "stdout",
     "output_type": "stream",
     "text": [
      "Enter the value of n:9\n",
      "The Multiplication table of 9 :\n",
      "9 * 1 = 9\n",
      "9 * 2 = 18\n",
      "9 * 3 = 27\n",
      "9 * 4 = 36\n",
      "9 * 5 = 45\n",
      "9 * 6 = 54\n",
      "9 * 7 = 63\n",
      "9 * 8 = 72\n",
      "9 * 9 = 81\n",
      "9 * 10 = 90\n"
     ]
    }
   ],
   "source": [
    "#Multiplication table\n",
    "n=int(input(\"Enter the value of n:\"))\n",
    "print(\"The Multiplication table of\",n,':')\n",
    "for i in range(1,11):\n",
    "    print(n,'*',i,'=',n*i)"
   ]
  },
  {
   "cell_type": "code",
   "execution_count": 1,
   "metadata": {},
   "outputs": [
    {
     "name": "stdout",
     "output_type": "stream",
     "text": [
      "Enter any 10 numbers\n",
      "> 2\n",
      "> 4\n",
      "> 6\n",
      "> 8\n",
      "> 10\n",
      "> 12\n",
      "> 14\n",
      "> 16\n",
      "> 18\n",
      "> 20\n",
      "The sum of entered 10 numbers is 110\n",
      "And their Average is 11.0\n"
     ]
    }
   ],
   "source": [
    "#Average of 10 numbers\n",
    "print(\"Enter any 10 numbers\")\n",
    "sum=0\n",
    "avg=0\n",
    "for i in range(1,11):\n",
    "    n=int(input(\"> \"))\n",
    "    sum=sum+n\n",
    "avg=sum/10\n",
    "print(\"The sum of entered 10 numbers is\",sum)\n",
    "print(\"And their Average is\",avg)"
   ]
  },
  {
   "cell_type": "code",
   "execution_count": 2,
   "metadata": {},
   "outputs": [
    {
     "name": "stdout",
     "output_type": "stream",
     "text": [
      "Enter No.of rows:10\n",
      "* \n",
      "* * \n",
      "* * * \n",
      "* * * * \n",
      "* * * * * \n",
      "* * * * * * \n",
      "* * * * * * * \n",
      "* * * * * * * * \n",
      "* * * * * * * * * \n",
      "* * * * * * * * * * \n"
     ]
    }
   ],
   "source": [
    "#Pattern printing\n",
    "n=int(input(\"Enter No.of rows:\"))\n",
    "for i in range(0,n):\n",
    "    for j in range(0,i+1):\n",
    "        print('*',end=\" \")\n",
    "    print(\"\\r\")"
   ]
  }
 ],
 "metadata": {
  "kernelspec": {
   "display_name": "Python 3",
   "language": "python",
   "name": "python3"
  },
  "language_info": {
   "codemirror_mode": {
    "name": "ipython",
    "version": 3
   },
   "file_extension": ".py",
   "mimetype": "text/x-python",
   "name": "python",
   "nbconvert_exporter": "python",
   "pygments_lexer": "ipython3",
   "version": "3.8.3"
  }
 },
 "nbformat": 4,
 "nbformat_minor": 4
}
